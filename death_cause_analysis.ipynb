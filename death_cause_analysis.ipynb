{
 "cells": [
  {
   "cell_type": "markdown",
   "metadata": {},
   "source": [
    "# Basic Overview \n",
    "The primary objective is to visualize and analyze the death rate data for every state in USA for the years 1999-2015. This is basically a learning project for me to master analysis and visualization skills in pandas.\n",
    "\n",
    "Comments/criticisms/appreciations are greatly accepted and appreciated. Do not be shy and send me an email at babinu@gmail.com !\n",
    "\n",
    "Source of data : https://catalog.data.gov/dataset/age-adjusted-death-rates-for-the-top-10-leading-causes-of-death-united-states-2013"
   ]
  },
  {
   "cell_type": "code",
   "execution_count": 88,
   "metadata": {},
   "outputs": [],
   "source": [
    "# Section for importing relevant modules. Note that in order to increase readability , we will be importing necessary\n",
    "# modules only as and when it is needed, rather than all at once.\n",
    "import pandas as pd\n",
    "import numpy as np"
   ]
  },
  {
   "cell_type": "code",
   "execution_count": 89,
   "metadata": {},
   "outputs": [],
   "source": [
    "death_rate_data = pd.read_csv(\"NCHS_-_Leading_Causes_of_Death__United_States.csv\")"
   ]
  },
  {
   "cell_type": "code",
   "execution_count": 90,
   "metadata": {},
   "outputs": [
    {
     "data": {
      "text/plain": [
       "Index(['Year', '113 Cause Name', 'Cause Name', 'State', 'Deaths',\n",
       "       'Age-adjusted Death Rate'],\n",
       "      dtype='object')"
      ]
     },
     "execution_count": 90,
     "metadata": {},
     "output_type": "execute_result"
    }
   ],
   "source": [
    "death_rate_data.columns"
   ]
  },
  {
   "cell_type": "markdown",
   "metadata": {},
   "source": [
    "###  A quick display of the obtained dataframe\n"
   ]
  },
  {
   "cell_type": "code",
   "execution_count": 91,
   "metadata": {},
   "outputs": [
    {
     "data": {
      "text/html": [
       "<div>\n",
       "<style scoped>\n",
       "    .dataframe tbody tr th:only-of-type {\n",
       "        vertical-align: middle;\n",
       "    }\n",
       "\n",
       "    .dataframe tbody tr th {\n",
       "        vertical-align: top;\n",
       "    }\n",
       "\n",
       "    .dataframe thead th {\n",
       "        text-align: right;\n",
       "    }\n",
       "</style>\n",
       "<table border=\"1\" class=\"dataframe\">\n",
       "  <thead>\n",
       "    <tr style=\"text-align: right;\">\n",
       "      <th></th>\n",
       "      <th>Year</th>\n",
       "      <th>113 Cause Name</th>\n",
       "      <th>Cause Name</th>\n",
       "      <th>State</th>\n",
       "      <th>Deaths</th>\n",
       "      <th>Age-adjusted Death Rate</th>\n",
       "    </tr>\n",
       "  </thead>\n",
       "  <tbody>\n",
       "    <tr>\n",
       "      <th>0</th>\n",
       "      <td>1999</td>\n",
       "      <td>Accidents (unintentional injuries) (V01-X59,Y8...</td>\n",
       "      <td>Unintentional Injuries</td>\n",
       "      <td>Alabama</td>\n",
       "      <td>2313.0</td>\n",
       "      <td>52.2</td>\n",
       "    </tr>\n",
       "    <tr>\n",
       "      <th>1</th>\n",
       "      <td>1999</td>\n",
       "      <td>Accidents (unintentional injuries) (V01-X59,Y8...</td>\n",
       "      <td>Unintentional Injuries</td>\n",
       "      <td>Alaska</td>\n",
       "      <td>294.0</td>\n",
       "      <td>55.9</td>\n",
       "    </tr>\n",
       "    <tr>\n",
       "      <th>2</th>\n",
       "      <td>1999</td>\n",
       "      <td>Accidents (unintentional injuries) (V01-X59,Y8...</td>\n",
       "      <td>Unintentional Injuries</td>\n",
       "      <td>Arizona</td>\n",
       "      <td>2214.0</td>\n",
       "      <td>44.8</td>\n",
       "    </tr>\n",
       "    <tr>\n",
       "      <th>3</th>\n",
       "      <td>1999</td>\n",
       "      <td>Accidents (unintentional injuries) (V01-X59,Y8...</td>\n",
       "      <td>Unintentional Injuries</td>\n",
       "      <td>Arkansas</td>\n",
       "      <td>1287.0</td>\n",
       "      <td>47.6</td>\n",
       "    </tr>\n",
       "    <tr>\n",
       "      <th>4</th>\n",
       "      <td>1999</td>\n",
       "      <td>Accidents (unintentional injuries) (V01-X59,Y8...</td>\n",
       "      <td>Unintentional Injuries</td>\n",
       "      <td>California</td>\n",
       "      <td>9198.0</td>\n",
       "      <td>28.7</td>\n",
       "    </tr>\n",
       "  </tbody>\n",
       "</table>\n",
       "</div>"
      ],
      "text/plain": [
       "   Year                                     113 Cause Name  \\\n",
       "0  1999  Accidents (unintentional injuries) (V01-X59,Y8...   \n",
       "1  1999  Accidents (unintentional injuries) (V01-X59,Y8...   \n",
       "2  1999  Accidents (unintentional injuries) (V01-X59,Y8...   \n",
       "3  1999  Accidents (unintentional injuries) (V01-X59,Y8...   \n",
       "4  1999  Accidents (unintentional injuries) (V01-X59,Y8...   \n",
       "\n",
       "               Cause Name       State  Deaths  Age-adjusted Death Rate  \n",
       "0  Unintentional Injuries     Alabama  2313.0                     52.2  \n",
       "1  Unintentional Injuries      Alaska   294.0                     55.9  \n",
       "2  Unintentional Injuries     Arizona  2214.0                     44.8  \n",
       "3  Unintentional Injuries    Arkansas  1287.0                     47.6  \n",
       "4  Unintentional Injuries  California  9198.0                     28.7  "
      ]
     },
     "execution_count": 91,
     "metadata": {},
     "output_type": "execute_result"
    }
   ],
   "source": [
    "death_rate_data.head()"
   ]
  },
  {
   "cell_type": "markdown",
   "metadata": {},
   "source": [
    "### Can we explore redundancy between columns '113 Cause Name' and 'Cause Name' and remove one of them ?\n"
   ]
  },
  {
   "cell_type": "code",
   "execution_count": 92,
   "metadata": {},
   "outputs": [
    {
     "data": {
      "text/html": [
       "<div>\n",
       "<style scoped>\n",
       "    .dataframe tbody tr th:only-of-type {\n",
       "        vertical-align: middle;\n",
       "    }\n",
       "\n",
       "    .dataframe tbody tr th {\n",
       "        vertical-align: top;\n",
       "    }\n",
       "\n",
       "    .dataframe thead th {\n",
       "        text-align: right;\n",
       "    }\n",
       "</style>\n",
       "<table border=\"1\" class=\"dataframe\">\n",
       "  <thead>\n",
       "    <tr style=\"text-align: right;\">\n",
       "      <th></th>\n",
       "      <th>113 Cause Name</th>\n",
       "      <th>Cause Name</th>\n",
       "    </tr>\n",
       "  </thead>\n",
       "  <tbody>\n",
       "    <tr>\n",
       "      <th>0</th>\n",
       "      <td>Accidents (unintentional injuries) (V01-X59,Y8...</td>\n",
       "      <td>Unintentional Injuries</td>\n",
       "    </tr>\n",
       "    <tr>\n",
       "      <th>1</th>\n",
       "      <td>Accidents (unintentional injuries) (V01-X59,Y8...</td>\n",
       "      <td>Unintentional Injuries</td>\n",
       "    </tr>\n",
       "    <tr>\n",
       "      <th>2</th>\n",
       "      <td>Accidents (unintentional injuries) (V01-X59,Y8...</td>\n",
       "      <td>Unintentional Injuries</td>\n",
       "    </tr>\n",
       "    <tr>\n",
       "      <th>3</th>\n",
       "      <td>Accidents (unintentional injuries) (V01-X59,Y8...</td>\n",
       "      <td>Unintentional Injuries</td>\n",
       "    </tr>\n",
       "    <tr>\n",
       "      <th>4</th>\n",
       "      <td>Accidents (unintentional injuries) (V01-X59,Y8...</td>\n",
       "      <td>Unintentional Injuries</td>\n",
       "    </tr>\n",
       "  </tbody>\n",
       "</table>\n",
       "</div>"
      ],
      "text/plain": [
       "                                      113 Cause Name              Cause Name\n",
       "0  Accidents (unintentional injuries) (V01-X59,Y8...  Unintentional Injuries\n",
       "1  Accidents (unintentional injuries) (V01-X59,Y8...  Unintentional Injuries\n",
       "2  Accidents (unintentional injuries) (V01-X59,Y8...  Unintentional Injuries\n",
       "3  Accidents (unintentional injuries) (V01-X59,Y8...  Unintentional Injuries\n",
       "4  Accidents (unintentional injuries) (V01-X59,Y8...  Unintentional Injuries"
      ]
     },
     "execution_count": 92,
     "metadata": {},
     "output_type": "execute_result"
    }
   ],
   "source": [
    "death_rate_data[['113 Cause Name', 'Cause Name']].head()"
   ]
  },
  {
   "cell_type": "code",
   "execution_count": 93,
   "metadata": {},
   "outputs": [
    {
     "name": "stdout",
     "output_type": "stream",
     "text": [
      "Number of unique entries in column 'Cause Name':  17\n",
      "Number of unique entries in column '113 Cause Name':  17\n",
      "Number of unique ('Cause Name', '113 Cause Name') tuples :  17\n"
     ]
    }
   ],
   "source": [
    "# To test for a one to one mapping between 2 columns, we do the following.\n",
    "# 1. Check the number of unique entries for column 1\n",
    "# 2. Do the same for column 2\n",
    "# 3. Do the same for tuples of column 1 and column 2 values\n",
    "# If all three return the same value, we have a one to one mapping.\n",
    "print(\"Number of unique entries in column 'Cause Name': \",\n",
    "      len(death_rate_data['Cause Name'].unique()))\n",
    "print(\"Number of unique entries in column '113 Cause Name': \",\n",
    "      len(death_rate_data['113 Cause Name'].unique()))\n",
    "print(\"Number of unique ('Cause Name', '113 Cause Name') tuples : \",\n",
    "      len(death_rate_data[['113 Cause Name', 'Cause Name']].drop_duplicates()))"
   ]
  },
  {
   "cell_type": "code",
   "execution_count": 94,
   "metadata": {},
   "outputs": [],
   "source": [
    "# Remove a redundant column.\n",
    "death_rate_data_v2 = death_rate_data.drop(columns='113 Cause Name')"
   ]
  },
  {
   "cell_type": "markdown",
   "metadata": {},
   "source": [
    "### Data Validation on all columns\n"
   ]
  },
  {
   "cell_type": "code",
   "execution_count": 95,
   "metadata": {},
   "outputs": [
    {
     "name": "stdout",
     "output_type": "stream",
     "text": [
      "Number of unique entries in column 'Year' is 17 and they are [1999 2003 2000 2005 2001 2006 2002 2010 2004 2011 2013 2007 2008 2014\n",
      " 2009 2012 2015]\n"
     ]
    }
   ],
   "source": [
    "# Column 'Year'\n",
    "print(\"Number of unique entries in column 'Year' is %s and they are %s\" \n",
    "      %(len(death_rate_data_v2['Year'].unique()),death_rate_data_v2['Year'].unique()))"
   ]
  },
  {
   "cell_type": "code",
   "execution_count": 96,
   "metadata": {},
   "outputs": [
    {
     "name": "stdout",
     "output_type": "stream",
     "text": [
      "Number of unique entries in column 'Cause Name' is 17 and they are ['Unintentional Injuries' 'All Causes' \"Alzheimer's disease\" 'Homicide'\n",
      " 'Stroke' 'Chronic liver disease and cirrhosis' 'CLRD' 'Diabetes'\n",
      " 'Diseases of Heart'\n",
      " 'Essential hypertension and hypertensive renal disease'\n",
      " 'Influenza and pneumonia' 'Cancer' 'Suicide' 'Kidney Disease'\n",
      " \"Parkinson's disease\" 'Pneumonitis due to solids and liquids'\n",
      " 'Septicemia']\n"
     ]
    }
   ],
   "source": [
    "# Column 'Cause Name'\n",
    "print(\"Number of unique entries in column 'Cause Name' is %s and they are %s\" \n",
    "      %(len(death_rate_data_v2['Cause Name'].unique()),death_rate_data_v2['Cause Name'].unique()))"
   ]
  },
  {
   "cell_type": "code",
   "execution_count": 97,
   "metadata": {},
   "outputs": [
    {
     "name": "stdout",
     "output_type": "stream",
     "text": [
      "Number of unique entries in column 'State' is 52 and they are ['Alabama' 'Alaska' 'Arizona' 'Arkansas' 'California' 'Colorado'\n",
      " 'Connecticut' 'Delaware' 'District of Columbia' 'Florida' 'Georgia'\n",
      " 'Hawaii' 'Idaho' 'Illinois' 'Indiana' 'Iowa' 'Kansas' 'Kentucky'\n",
      " 'Louisiana' 'Maine' 'Maryland' 'Massachusetts' 'Michigan' 'Minnesota'\n",
      " 'Mississippi' 'Missouri' 'Montana' 'Nebraska' 'Nevada' 'New Hampshire'\n",
      " 'New Jersey' 'New Mexico' 'New York' 'North Carolina' 'North Dakota'\n",
      " 'Ohio' 'Oklahoma' 'Oregon' 'Pennsylvania' 'Rhode Island' 'South Carolina'\n",
      " 'South Dakota' 'Tennessee' 'Texas' 'United States' 'Utah' 'Vermont'\n",
      " 'Virginia' 'Washington' 'West Virginia' 'Wisconsin' 'Wyoming']\n"
     ]
    }
   ],
   "source": [
    "# Column 'State'\n",
    "print(\"Number of unique entries in column 'State' is %s and they are %s\" \n",
    "      %(len(death_rate_data_v2['State'].unique()),death_rate_data_v2['State'].unique()))"
   ]
  },
  {
   "cell_type": "markdown",
   "metadata": {},
   "source": [
    "### Why do we have 52 states instead of 50 here ?"
   ]
  },
  {
   "cell_type": "code",
   "execution_count": 98,
   "metadata": {},
   "outputs": [
    {
     "name": "stdout",
     "output_type": "stream",
     "text": [
      "Is 'United States' present in column 'State': True\n",
      "Is 'District of Columbia' present in column 'State': True\n"
     ]
    }
   ],
   "source": [
    "print('Is \\'United States\\' present in column \\'State\\':', \n",
    "      'United States' in death_rate_data_v2['State'].values)\n",
    "print('Is \\'District of Columbia\\' present in column \\'State\\':', \n",
    "      'District of Columbia' in death_rate_data_v2['State'].values)"
   ]
  },
  {
   "cell_type": "markdown",
   "metadata": {},
   "source": [
    "### Shouldn't the data for 'United States' be aggregate of the data corresponding to individual states ?\n"
   ]
  },
  {
   "cell_type": "code",
   "execution_count": 99,
   "metadata": {},
   "outputs": [
    {
     "data": {
      "text/html": [
       "<div>\n",
       "<style scoped>\n",
       "    .dataframe tbody tr th:only-of-type {\n",
       "        vertical-align: middle;\n",
       "    }\n",
       "\n",
       "    .dataframe tbody tr th {\n",
       "        vertical-align: top;\n",
       "    }\n",
       "\n",
       "    .dataframe thead th {\n",
       "        text-align: right;\n",
       "    }\n",
       "</style>\n",
       "<table border=\"1\" class=\"dataframe\">\n",
       "  <thead>\n",
       "    <tr style=\"text-align: right;\">\n",
       "      <th></th>\n",
       "      <th>Year</th>\n",
       "      <th>Cause Name</th>\n",
       "      <th>Deaths_agg</th>\n",
       "      <th>Deaths_usa</th>\n",
       "      <th>Deaths_diff</th>\n",
       "    </tr>\n",
       "  </thead>\n",
       "  <tbody>\n",
       "    <tr>\n",
       "      <th>7</th>\n",
       "      <td>1999</td>\n",
       "      <td>Essential hypertension and hypertensive renal ...</td>\n",
       "      <td>16963.0</td>\n",
       "      <td>16968.0</td>\n",
       "      <td>-5.0</td>\n",
       "    </tr>\n",
       "    <tr>\n",
       "      <th>41</th>\n",
       "      <td>2001</td>\n",
       "      <td>Essential hypertension and hypertensive renal ...</td>\n",
       "      <td>19244.0</td>\n",
       "      <td>19250.0</td>\n",
       "      <td>-6.0</td>\n",
       "    </tr>\n",
       "    <tr>\n",
       "      <th>42</th>\n",
       "      <td>2001</td>\n",
       "      <td>Homicide</td>\n",
       "      <td>20299.0</td>\n",
       "      <td>20308.0</td>\n",
       "      <td>-9.0</td>\n",
       "    </tr>\n",
       "    <tr>\n",
       "      <th>58</th>\n",
       "      <td>2002</td>\n",
       "      <td>Essential hypertension and hypertensive renal ...</td>\n",
       "      <td>20252.0</td>\n",
       "      <td>20261.0</td>\n",
       "      <td>-9.0</td>\n",
       "    </tr>\n",
       "    <tr>\n",
       "      <th>59</th>\n",
       "      <td>2002</td>\n",
       "      <td>Homicide</td>\n",
       "      <td>17614.0</td>\n",
       "      <td>17638.0</td>\n",
       "      <td>-24.0</td>\n",
       "    </tr>\n",
       "    <tr>\n",
       "      <th>127</th>\n",
       "      <td>2006</td>\n",
       "      <td>Homicide</td>\n",
       "      <td>18564.0</td>\n",
       "      <td>18573.0</td>\n",
       "      <td>-9.0</td>\n",
       "    </tr>\n",
       "    <tr>\n",
       "      <th>161</th>\n",
       "      <td>2008</td>\n",
       "      <td>Homicide</td>\n",
       "      <td>17823.0</td>\n",
       "      <td>17826.0</td>\n",
       "      <td>-3.0</td>\n",
       "    </tr>\n",
       "    <tr>\n",
       "      <th>178</th>\n",
       "      <td>2009</td>\n",
       "      <td>Homicide</td>\n",
       "      <td>16791.0</td>\n",
       "      <td>16799.0</td>\n",
       "      <td>-8.0</td>\n",
       "    </tr>\n",
       "    <tr>\n",
       "      <th>195</th>\n",
       "      <td>2010</td>\n",
       "      <td>Homicide</td>\n",
       "      <td>16242.0</td>\n",
       "      <td>16259.0</td>\n",
       "      <td>-17.0</td>\n",
       "    </tr>\n",
       "    <tr>\n",
       "      <th>212</th>\n",
       "      <td>2011</td>\n",
       "      <td>Homicide</td>\n",
       "      <td>16230.0</td>\n",
       "      <td>16238.0</td>\n",
       "      <td>-8.0</td>\n",
       "    </tr>\n",
       "    <tr>\n",
       "      <th>216</th>\n",
       "      <td>2011</td>\n",
       "      <td>Pneumonitis due to solids and liquids</td>\n",
       "      <td>18186.0</td>\n",
       "      <td>18195.0</td>\n",
       "      <td>-9.0</td>\n",
       "    </tr>\n",
       "    <tr>\n",
       "      <th>229</th>\n",
       "      <td>2012</td>\n",
       "      <td>Homicide</td>\n",
       "      <td>16679.0</td>\n",
       "      <td>16688.0</td>\n",
       "      <td>-9.0</td>\n",
       "    </tr>\n",
       "  </tbody>\n",
       "</table>\n",
       "</div>"
      ],
      "text/plain": [
       "     Year                                         Cause Name  Deaths_agg  \\\n",
       "7    1999  Essential hypertension and hypertensive renal ...     16963.0   \n",
       "41   2001  Essential hypertension and hypertensive renal ...     19244.0   \n",
       "42   2001                                           Homicide     20299.0   \n",
       "58   2002  Essential hypertension and hypertensive renal ...     20252.0   \n",
       "59   2002                                           Homicide     17614.0   \n",
       "127  2006                                           Homicide     18564.0   \n",
       "161  2008                                           Homicide     17823.0   \n",
       "178  2009                                           Homicide     16791.0   \n",
       "195  2010                                           Homicide     16242.0   \n",
       "212  2011                                           Homicide     16230.0   \n",
       "216  2011              Pneumonitis due to solids and liquids     18186.0   \n",
       "229  2012                                           Homicide     16679.0   \n",
       "\n",
       "     Deaths_usa  Deaths_diff  \n",
       "7       16968.0         -5.0  \n",
       "41      19250.0         -6.0  \n",
       "42      20308.0         -9.0  \n",
       "58      20261.0         -9.0  \n",
       "59      17638.0        -24.0  \n",
       "127     18573.0         -9.0  \n",
       "161     17826.0         -3.0  \n",
       "178     16799.0         -8.0  \n",
       "195     16259.0        -17.0  \n",
       "212     16238.0         -8.0  \n",
       "216     18195.0         -9.0  \n",
       "229     16688.0         -9.0  "
      ]
     },
     "execution_count": 99,
     "metadata": {},
     "output_type": "execute_result"
    }
   ],
   "source": [
    "# Aggregate the number of deaths across states for a particular year and cause and check if the value\n",
    "# matched with that of United States.\n",
    "united_states_data = death_rate_data_v2[death_rate_data_v2['State'] == 'United States']\n",
    "death_rate_data_v3 = death_rate_data_v2[death_rate_data_v2['State'] != 'United States']\n",
    "\n",
    "year_cause_group_data = death_rate_data_v3['Deaths'].groupby(\n",
    "    [death_rate_data_v3['Year'], death_rate_data_v3['Cause Name']]).sum()\n",
    "\n",
    "# Reset indices of the group by object and make sure that dataframes are perfectly mergable..\n",
    "year_cause_data_v1 = year_cause_group_data.reset_index().copy()\n",
    "united_states_data_v1 = united_states_data.sort_values(\n",
    "    by=['Year', 'Cause Name'])[\n",
    "    ['Year', 'Cause Name', 'Deaths']].reset_index().drop(columns=['index']).copy()\n",
    "\n",
    "# Merge to one data frame for ease of comparisons later on.\n",
    "aggregated_and_usa_data = pd.merge(year_cause_data_v1, \n",
    "                                   united_states_data_v1[['Deaths']], \n",
    "                                   left_index=True, \n",
    "                                   right_index=True, \n",
    "                                   how='inner',\n",
    "                                   suffixes=('_agg', '_usa'))\n",
    "\n",
    "aggregated_and_usa_data['Deaths_diff'] = aggregated_and_usa_data['Deaths_agg'] - aggregated_and_usa_data['Deaths_usa']\n",
    "aggregated_and_usa_data[aggregated_and_usa_data['Deaths_diff'] != 0]"
   ]
  }
 ],
 "metadata": {
  "kernelspec": {
   "display_name": "Python 3",
   "language": "python",
   "name": "python3"
  },
  "language_info": {
   "codemirror_mode": {
    "name": "ipython",
    "version": 3
   },
   "file_extension": ".py",
   "mimetype": "text/x-python",
   "name": "python",
   "nbconvert_exporter": "python",
   "pygments_lexer": "ipython3",
   "version": "3.6.4"
  }
 },
 "nbformat": 4,
 "nbformat_minor": 2
}
