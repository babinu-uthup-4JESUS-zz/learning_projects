{
 "cells": [
  {
   "cell_type": "markdown",
   "metadata": {},
   "source": [
    "# Basic Overview \n",
    "The primary objective is to visualize and analyze the the teen birth rate data in USA for the years 2003-2015.\n",
    "\n",
    "Comments/criticisms/appreciations are greatly accepted and appreciated. Do not be shy and send me an email at babinu@gmail.com !\n",
    "\n",
    "Source of data : https://data.cdc.gov/api/views/3h58-x6cd/rows.csv?accessType=DOWNLOAD"
   ]
  },
  {
   "cell_type": "code",
   "execution_count": 14,
   "metadata": {},
   "outputs": [],
   "source": [
    "# Section for importing relevant modules. Note that in order to increase readability , we will be importing necessary\n",
    "# modules only as and when it is needed, rather than all at once.\n",
    "import pandas as pd\n",
    "import numpy as np\n",
    "import matplotlib.pyplot as plt"
   ]
  },
  {
   "cell_type": "code",
   "execution_count": 15,
   "metadata": {},
   "outputs": [],
   "source": [
    "teen_birth_rate_data = pd.read_csv(\"project_2_teen_birth_rates_usa.csv\")"
   ]
  },
  {
   "cell_type": "code",
   "execution_count": 16,
   "metadata": {},
   "outputs": [
    {
     "data": {
      "text/plain": [
       "Index(['Year', 'State', 'County', 'State FIPS Code', 'County FIPS Code',\n",
       "       'Combined FIPS Code', 'Birth Rate', 'Lower Confidence Limit',\n",
       "       'Upper Confidence Limit'],\n",
       "      dtype='object')"
      ]
     },
     "execution_count": 16,
     "metadata": {},
     "output_type": "execute_result"
    }
   ],
   "source": [
    "teen_birth_rate_data.columns"
   ]
  },
  {
   "cell_type": "markdown",
   "metadata": {},
   "source": [
    "###  A quick display of the obtained dataframe\n"
   ]
  },
  {
   "cell_type": "code",
   "execution_count": 17,
   "metadata": {},
   "outputs": [
    {
     "data": {
      "text/html": [
       "<div>\n",
       "<style scoped>\n",
       "    .dataframe tbody tr th:only-of-type {\n",
       "        vertical-align: middle;\n",
       "    }\n",
       "\n",
       "    .dataframe tbody tr th {\n",
       "        vertical-align: top;\n",
       "    }\n",
       "\n",
       "    .dataframe thead th {\n",
       "        text-align: right;\n",
       "    }\n",
       "</style>\n",
       "<table border=\"1\" class=\"dataframe\">\n",
       "  <thead>\n",
       "    <tr style=\"text-align: right;\">\n",
       "      <th></th>\n",
       "      <th>Year</th>\n",
       "      <th>State</th>\n",
       "      <th>County</th>\n",
       "      <th>State FIPS Code</th>\n",
       "      <th>County FIPS Code</th>\n",
       "      <th>Combined FIPS Code</th>\n",
       "      <th>Birth Rate</th>\n",
       "      <th>Lower Confidence Limit</th>\n",
       "      <th>Upper Confidence Limit</th>\n",
       "    </tr>\n",
       "  </thead>\n",
       "  <tbody>\n",
       "    <tr>\n",
       "      <th>0</th>\n",
       "      <td>2003</td>\n",
       "      <td>Alabama</td>\n",
       "      <td>Autauga</td>\n",
       "      <td>1</td>\n",
       "      <td>1</td>\n",
       "      <td>1001</td>\n",
       "      <td>46.377215</td>\n",
       "      <td>40.683107</td>\n",
       "      <td>52.508481</td>\n",
       "    </tr>\n",
       "    <tr>\n",
       "      <th>1</th>\n",
       "      <td>2004</td>\n",
       "      <td>Alabama</td>\n",
       "      <td>Autauga</td>\n",
       "      <td>1</td>\n",
       "      <td>1</td>\n",
       "      <td>1001</td>\n",
       "      <td>46.050618</td>\n",
       "      <td>41.084735</td>\n",
       "      <td>51.340795</td>\n",
       "    </tr>\n",
       "    <tr>\n",
       "      <th>2</th>\n",
       "      <td>2005</td>\n",
       "      <td>Alabama</td>\n",
       "      <td>Autauga</td>\n",
       "      <td>1</td>\n",
       "      <td>1</td>\n",
       "      <td>1001</td>\n",
       "      <td>43.941062</td>\n",
       "      <td>39.513897</td>\n",
       "      <td>48.646647</td>\n",
       "    </tr>\n",
       "    <tr>\n",
       "      <th>3</th>\n",
       "      <td>2006</td>\n",
       "      <td>Alabama</td>\n",
       "      <td>Autauga</td>\n",
       "      <td>1</td>\n",
       "      <td>1</td>\n",
       "      <td>1001</td>\n",
       "      <td>43.826654</td>\n",
       "      <td>39.570766</td>\n",
       "      <td>48.345353</td>\n",
       "    </tr>\n",
       "    <tr>\n",
       "      <th>4</th>\n",
       "      <td>2007</td>\n",
       "      <td>Alabama</td>\n",
       "      <td>Autauga</td>\n",
       "      <td>1</td>\n",
       "      <td>1</td>\n",
       "      <td>1001</td>\n",
       "      <td>43.757806</td>\n",
       "      <td>39.573448</td>\n",
       "      <td>48.199268</td>\n",
       "    </tr>\n",
       "  </tbody>\n",
       "</table>\n",
       "</div>"
      ],
      "text/plain": [
       "   Year    State   County  State FIPS Code  County FIPS Code  \\\n",
       "0  2003  Alabama  Autauga                1                 1   \n",
       "1  2004  Alabama  Autauga                1                 1   \n",
       "2  2005  Alabama  Autauga                1                 1   \n",
       "3  2006  Alabama  Autauga                1                 1   \n",
       "4  2007  Alabama  Autauga                1                 1   \n",
       "\n",
       "   Combined FIPS Code  Birth Rate  Lower Confidence Limit  \\\n",
       "0                1001   46.377215               40.683107   \n",
       "1                1001   46.050618               41.084735   \n",
       "2                1001   43.941062               39.513897   \n",
       "3                1001   43.826654               39.570766   \n",
       "4                1001   43.757806               39.573448   \n",
       "\n",
       "   Upper Confidence Limit  \n",
       "0               52.508481  \n",
       "1               51.340795  \n",
       "2               48.646647  \n",
       "3               48.345353  \n",
       "4               48.199268  "
      ]
     },
     "execution_count": 17,
     "metadata": {},
     "output_type": "execute_result"
    }
   ],
   "source": [
    "teen_birth_rate_data.head()"
   ]
  },
  {
   "cell_type": "code",
   "execution_count": 18,
   "metadata": {},
   "outputs": [],
   "source": [
    "# We do not need the FIPS code related data for this analysis. Hence, let us remove them.\n",
    "teen_birth_rate_data_v1 = teen_birth_rate_data.drop(columns=['State FIPS Code', 'County FIPS Code', 'Combined FIPS Code'])"
   ]
  },
  {
   "cell_type": "code",
   "execution_count": 19,
   "metadata": {},
   "outputs": [
    {
     "data": {
      "text/html": [
       "<div>\n",
       "<style scoped>\n",
       "    .dataframe tbody tr th:only-of-type {\n",
       "        vertical-align: middle;\n",
       "    }\n",
       "\n",
       "    .dataframe tbody tr th {\n",
       "        vertical-align: top;\n",
       "    }\n",
       "\n",
       "    .dataframe thead th {\n",
       "        text-align: right;\n",
       "    }\n",
       "</style>\n",
       "<table border=\"1\" class=\"dataframe\">\n",
       "  <thead>\n",
       "    <tr style=\"text-align: right;\">\n",
       "      <th></th>\n",
       "      <th>Year</th>\n",
       "      <th>State</th>\n",
       "      <th>County</th>\n",
       "      <th>Birth Rate</th>\n",
       "      <th>Lower Confidence Limit</th>\n",
       "      <th>Upper Confidence Limit</th>\n",
       "    </tr>\n",
       "  </thead>\n",
       "  <tbody>\n",
       "    <tr>\n",
       "      <th>0</th>\n",
       "      <td>2003</td>\n",
       "      <td>Alabama</td>\n",
       "      <td>Autauga</td>\n",
       "      <td>46.377215</td>\n",
       "      <td>40.683107</td>\n",
       "      <td>52.508481</td>\n",
       "    </tr>\n",
       "    <tr>\n",
       "      <th>1</th>\n",
       "      <td>2004</td>\n",
       "      <td>Alabama</td>\n",
       "      <td>Autauga</td>\n",
       "      <td>46.050618</td>\n",
       "      <td>41.084735</td>\n",
       "      <td>51.340795</td>\n",
       "    </tr>\n",
       "    <tr>\n",
       "      <th>2</th>\n",
       "      <td>2005</td>\n",
       "      <td>Alabama</td>\n",
       "      <td>Autauga</td>\n",
       "      <td>43.941062</td>\n",
       "      <td>39.513897</td>\n",
       "      <td>48.646647</td>\n",
       "    </tr>\n",
       "    <tr>\n",
       "      <th>3</th>\n",
       "      <td>2006</td>\n",
       "      <td>Alabama</td>\n",
       "      <td>Autauga</td>\n",
       "      <td>43.826654</td>\n",
       "      <td>39.570766</td>\n",
       "      <td>48.345353</td>\n",
       "    </tr>\n",
       "    <tr>\n",
       "      <th>4</th>\n",
       "      <td>2007</td>\n",
       "      <td>Alabama</td>\n",
       "      <td>Autauga</td>\n",
       "      <td>43.757806</td>\n",
       "      <td>39.573448</td>\n",
       "      <td>48.199268</td>\n",
       "    </tr>\n",
       "  </tbody>\n",
       "</table>\n",
       "</div>"
      ],
      "text/plain": [
       "   Year    State   County  Birth Rate  Lower Confidence Limit  \\\n",
       "0  2003  Alabama  Autauga   46.377215               40.683107   \n",
       "1  2004  Alabama  Autauga   46.050618               41.084735   \n",
       "2  2005  Alabama  Autauga   43.941062               39.513897   \n",
       "3  2006  Alabama  Autauga   43.826654               39.570766   \n",
       "4  2007  Alabama  Autauga   43.757806               39.573448   \n",
       "\n",
       "   Upper Confidence Limit  \n",
       "0               52.508481  \n",
       "1               51.340795  \n",
       "2               48.646647  \n",
       "3               48.345353  \n",
       "4               48.199268  "
      ]
     },
     "execution_count": 19,
     "metadata": {},
     "output_type": "execute_result"
    }
   ],
   "source": [
    "teen_birth_rate_data_v1.head()"
   ]
  },
  {
   "cell_type": "markdown",
   "metadata": {},
   "source": [
    "### Q : What exactly are the lower and upper confidence limits and do we need them ?\n",
    "\n",
    "#### A : The birth rates are estimated for a year from the data for July using bayesian model(https://catalog.data.gov/dataset/teen-birth-rates-for-age-group-15-19-in-the-united-states-by-county) \n",
    "#### and hence we have the confidence limit values as well(obtained using the obtained standard error). \n",
    "\n",
    "#### For the sake of our analysis, we will omit these.\n"
   ]
  },
  {
   "cell_type": "code",
   "execution_count": 20,
   "metadata": {},
   "outputs": [],
   "source": [
    "teen_birth_rate_data_v2 = teen_birth_rate_data_v1.drop(columns=['Lower Confidence Limit', 'Upper Confidence Limit'])"
   ]
  },
  {
   "cell_type": "code",
   "execution_count": 21,
   "metadata": {},
   "outputs": [
    {
     "data": {
      "text/html": [
       "<div>\n",
       "<style scoped>\n",
       "    .dataframe tbody tr th:only-of-type {\n",
       "        vertical-align: middle;\n",
       "    }\n",
       "\n",
       "    .dataframe tbody tr th {\n",
       "        vertical-align: top;\n",
       "    }\n",
       "\n",
       "    .dataframe thead th {\n",
       "        text-align: right;\n",
       "    }\n",
       "</style>\n",
       "<table border=\"1\" class=\"dataframe\">\n",
       "  <thead>\n",
       "    <tr style=\"text-align: right;\">\n",
       "      <th></th>\n",
       "      <th>Year</th>\n",
       "      <th>State</th>\n",
       "      <th>County</th>\n",
       "      <th>Birth Rate</th>\n",
       "    </tr>\n",
       "  </thead>\n",
       "  <tbody>\n",
       "    <tr>\n",
       "      <th>0</th>\n",
       "      <td>2003</td>\n",
       "      <td>Alabama</td>\n",
       "      <td>Autauga</td>\n",
       "      <td>46.377215</td>\n",
       "    </tr>\n",
       "    <tr>\n",
       "      <th>1</th>\n",
       "      <td>2004</td>\n",
       "      <td>Alabama</td>\n",
       "      <td>Autauga</td>\n",
       "      <td>46.050618</td>\n",
       "    </tr>\n",
       "    <tr>\n",
       "      <th>2</th>\n",
       "      <td>2005</td>\n",
       "      <td>Alabama</td>\n",
       "      <td>Autauga</td>\n",
       "      <td>43.941062</td>\n",
       "    </tr>\n",
       "    <tr>\n",
       "      <th>3</th>\n",
       "      <td>2006</td>\n",
       "      <td>Alabama</td>\n",
       "      <td>Autauga</td>\n",
       "      <td>43.826654</td>\n",
       "    </tr>\n",
       "    <tr>\n",
       "      <th>4</th>\n",
       "      <td>2007</td>\n",
       "      <td>Alabama</td>\n",
       "      <td>Autauga</td>\n",
       "      <td>43.757806</td>\n",
       "    </tr>\n",
       "  </tbody>\n",
       "</table>\n",
       "</div>"
      ],
      "text/plain": [
       "   Year    State   County  Birth Rate\n",
       "0  2003  Alabama  Autauga   46.377215\n",
       "1  2004  Alabama  Autauga   46.050618\n",
       "2  2005  Alabama  Autauga   43.941062\n",
       "3  2006  Alabama  Autauga   43.826654\n",
       "4  2007  Alabama  Autauga   43.757806"
      ]
     },
     "execution_count": 21,
     "metadata": {},
     "output_type": "execute_result"
    }
   ],
   "source": [
    "teen_birth_rate_data_v2.head()"
   ]
  },
  {
   "cell_type": "markdown",
   "metadata": {},
   "source": [
    "### How do we validate the given data ?"
   ]
  },
  {
   "cell_type": "code",
   "execution_count": 22,
   "metadata": {},
   "outputs": [
    {
     "name": "stdout",
     "output_type": "stream",
     "text": [
      "count    40781.000000\n",
      "mean        40.319738\n",
      "std         19.644728\n",
      "min          2.868646\n",
      "25%         25.192610\n",
      "50%         37.541996\n",
      "75%         52.733487\n",
      "max        135.231014\n",
      "Name: Birth Rate, dtype: float64\n"
     ]
    }
   ],
   "source": [
    "# We do a simple data validation to make sure that birth rates are indeed numbers.\n",
    "print(teen_birth_rate_data_v2['Birth Rate'].describe())"
   ]
  },
  {
   "cell_type": "markdown",
   "metadata": {},
   "source": [
    "### Which county had the highest/lowest birth rate across all years ?"
   ]
  },
  {
   "cell_type": "code",
   "execution_count": 23,
   "metadata": {},
   "outputs": [
    {
     "name": "stdout",
     "output_type": "stream",
     "text": [
      "Highest birth rate  county : \n",
      " Year             2008\n",
      "State           Texas\n",
      "County         Brooks\n",
      "Birth Rate    135.231\n",
      "Name: 33038, dtype: object\n",
      "Lowest birth rate  county : \n",
      " Year                   2015\n",
      "State         Massachusetts\n",
      "County            Hampshire\n",
      "Birth Rate          2.86865\n",
      "Name: 15859, dtype: object\n"
     ]
    }
   ],
   "source": [
    "# We find this in few different ways.\n",
    "#print(teen_birth_rate_data_v2[teen_birth_rate_data_v2['Birth Rate'] == teen_birth_rate_data_v2['Birth Rate'].max()])\n",
    "print(\"Highest birth rate  county : \\n\", teen_birth_rate_data_v2.loc[teen_birth_rate_data_v2['Birth Rate'].idxmax()])\n",
    "print(\"Lowest birth rate  county : \\n\", teen_birth_rate_data_v2.loc[teen_birth_rate_data_v2['Birth Rate'].idxmin()])"
   ]
  },
  {
   "cell_type": "markdown",
   "metadata": {},
   "source": [
    "### Can we plot birth rate data across years for the Brooks county in Texas ?"
   ]
  },
  {
   "cell_type": "code",
   "execution_count": 24,
   "metadata": {},
   "outputs": [],
   "source": [
    "brooks_county_data = \\\n",
    "    teen_birth_rate_data_v2[\n",
    "        (teen_birth_rate_data_v2['County'] == 'Brooks') & (teen_birth_rate_data_v2['State'] == 'Texas')]\n",
    "brooks_county_data.set_index('Year', inplace=True)"
   ]
  },
  {
   "cell_type": "code",
   "execution_count": 25,
   "metadata": {},
   "outputs": [
    {
     "data": {
      "text/plain": [
       "State          object\n",
       "County         object\n",
       "Birth Rate    float64\n",
       "dtype: object"
      ]
     },
     "execution_count": 25,
     "metadata": {},
     "output_type": "execute_result"
    }
   ],
   "source": [
    "brooks_county_data.dtypes"
   ]
  },
  {
   "cell_type": "code",
   "execution_count": 26,
   "metadata": {},
   "outputs": [
    {
     "ename": "NameError",
     "evalue": "name 'plt' is not defined",
     "output_type": "error",
     "traceback": [
      "\u001b[0;31m---------------------------------------------------------------------------\u001b[0m",
      "\u001b[0;31mNameError\u001b[0m                                 Traceback (most recent call last)",
      "\u001b[0;32m<ipython-input-26-6b11af96bf62>\u001b[0m in \u001b[0;36m<module>\u001b[0;34m()\u001b[0m\n\u001b[1;32m      1\u001b[0m \u001b[0;32mfrom\u001b[0m \u001b[0mplotting_functions\u001b[0m \u001b[0;32mimport\u001b[0m \u001b[0mplot_rel_data_v2\u001b[0m\u001b[0;34m\u001b[0m\u001b[0m\n\u001b[0;32m----> 2\u001b[0;31m \u001b[0max\u001b[0m \u001b[0;34m=\u001b[0m \u001b[0mplot_rel_data_v2\u001b[0m\u001b[0;34m(\u001b[0m\u001b[0mbrooks_county_data\u001b[0m\u001b[0;34m[\u001b[0m\u001b[0;34m'Birth Rate'\u001b[0m\u001b[0;34m]\u001b[0m\u001b[0;34m,\u001b[0m \u001b[0;34m'Year'\u001b[0m\u001b[0;34m,\u001b[0m \u001b[0;34m'Birth Rate'\u001b[0m\u001b[0;34m,\u001b[0m \u001b[0;34m'Birth year across years for Brooks County(TX)'\u001b[0m\u001b[0;34m,\u001b[0m \u001b[0;36m1\u001b[0m\u001b[0;34m,\u001b[0m \u001b[0;36m5\u001b[0m\u001b[0;34m)\u001b[0m\u001b[0;34m\u001b[0m\u001b[0m\n\u001b[0m\u001b[1;32m      3\u001b[0m \u001b[0mmax_obj\u001b[0m \u001b[0;34m=\u001b[0m \u001b[0mbrooks_county_data\u001b[0m\u001b[0;34m.\u001b[0m\u001b[0mloc\u001b[0m\u001b[0;34m[\u001b[0m\u001b[0mbrooks_county_data\u001b[0m\u001b[0;34m[\u001b[0m\u001b[0;34m'Birth Rate'\u001b[0m\u001b[0;34m]\u001b[0m\u001b[0;34m.\u001b[0m\u001b[0midxmax\u001b[0m\u001b[0;34m(\u001b[0m\u001b[0;34m)\u001b[0m\u001b[0;34m]\u001b[0m\u001b[0;34m\u001b[0m\u001b[0m\n\u001b[1;32m      4\u001b[0m \u001b[0;34m\u001b[0m\u001b[0m\n\u001b[1;32m      5\u001b[0m \u001b[0mprint\u001b[0m\u001b[0;34m(\u001b[0m\u001b[0mmax_obj\u001b[0m\u001b[0;34m)\u001b[0m\u001b[0;34m\u001b[0m\u001b[0m\n",
      "\u001b[0;32m~/Documents/GitHub/learning_projects/plotting_functions.py\u001b[0m in \u001b[0;36mplot_rel_data_v2\u001b[0;34m(multiple_states_data, x_label, y_label, title_str, x_tick, y_tick, fig_length, fig_breadth, x_label_font_size, y_label_font_size)\u001b[0m\n\u001b[1;32m     32\u001b[0m     \u001b[0;34m:\u001b[0m\u001b[0mparam\u001b[0m \u001b[0my_label_font_size\u001b[0m\u001b[0;34m:\u001b[0m \u001b[0mSize\u001b[0m \u001b[0mof\u001b[0m \u001b[0mlabel\u001b[0m \u001b[0mon\u001b[0m \u001b[0mY\u001b[0m \u001b[0maxis\u001b[0m\u001b[0;34m.\u001b[0m\u001b[0;34m\u001b[0m\u001b[0m\n\u001b[1;32m     33\u001b[0m     \"\"\"\n\u001b[0;32m---> 34\u001b[0;31m     \u001b[0mfig\u001b[0m\u001b[0;34m,\u001b[0m \u001b[0max\u001b[0m \u001b[0;34m=\u001b[0m \u001b[0mplt\u001b[0m\u001b[0;34m.\u001b[0m\u001b[0msubplots\u001b[0m\u001b[0;34m(\u001b[0m\u001b[0;36m1\u001b[0m\u001b[0;34m,\u001b[0m\u001b[0;36m1\u001b[0m\u001b[0;34m,\u001b[0m\u001b[0mfigsize\u001b[0m\u001b[0;34m=\u001b[0m\u001b[0;34m(\u001b[0m\u001b[0mfig_length\u001b[0m\u001b[0;34m,\u001b[0m \u001b[0mfig_breadth\u001b[0m\u001b[0;34m)\u001b[0m\u001b[0;34m)\u001b[0m\u001b[0;34m\u001b[0m\u001b[0m\n\u001b[0m\u001b[1;32m     35\u001b[0m     \u001b[0mmultiple_states_data\u001b[0m\u001b[0;34m.\u001b[0m\u001b[0mplot\u001b[0m\u001b[0;34m(\u001b[0m\u001b[0max\u001b[0m\u001b[0;34m=\u001b[0m\u001b[0max\u001b[0m\u001b[0;34m)\u001b[0m\u001b[0;34m\u001b[0m\u001b[0m\n\u001b[1;32m     36\u001b[0m     \u001b[0max\u001b[0m\u001b[0;34m.\u001b[0m\u001b[0mxaxis\u001b[0m\u001b[0;34m.\u001b[0m\u001b[0mlabel\u001b[0m\u001b[0;34m.\u001b[0m\u001b[0mset_size\u001b[0m\u001b[0;34m(\u001b[0m\u001b[0mx_label_font_size\u001b[0m\u001b[0;34m)\u001b[0m\u001b[0;34m\u001b[0m\u001b[0m\n",
      "\u001b[0;31mNameError\u001b[0m: name 'plt' is not defined"
     ]
    }
   ],
   "source": [
    "from plotting_functions import plot_rel_data_v2\n",
    "ax = plot_rel_data_v2(brooks_county_data['Birth Rate'], 'Year', 'Birth Rate', 'Birth year across years for Brooks County(TX)', 1, 5)\n",
    "max_obj = brooks_county_data.loc[brooks_county_data['Birth Rate'].idxmax()]\n",
    "\n",
    "print(max_obj)\n",
    "print(max_obj.name, max_obj.State, max_obj.County,max_obj['Birth Rate'])\n",
    "\n",
    "# Change the top y limit to make sure that annotations are made properly.\n",
    "ax.set_ylim(top=brooks_county_data['Birth Rate'].max() + 7)\n",
    "ax.annotate('Effect of financial crisis ?', \n",
    "            xy=(int(max_obj.name), max_obj['Birth Rate'] + 0.5),\n",
    "            xytext=(int(max_obj.name), max_obj['Birth Rate'] + 3),\n",
    "            arrowprops=dict(facecolor='green'),\n",
    "            horizontalalignment='right',\n",
    "            verticalalignment='top'\n",
    "            )"
   ]
  },
  {
   "cell_type": "markdown",
   "metadata": {},
   "source": [
    "### Can we average the birth rates across counties(for each state) and see which state has highest/lowest birth rates ?"
   ]
  },
  {
   "cell_type": "code",
   "execution_count": null,
   "metadata": {},
   "outputs": [],
   "source": [
    "states_data_agg = \\\n",
    "    teen_birth_rate_data_v2[['Birth Rate']].groupby(\n",
    "        [teen_birth_rate_data_v2['Year'], teen_birth_rate_data_v2['State']]).mean()"
   ]
  },
  {
   "cell_type": "code",
   "execution_count": null,
   "metadata": {},
   "outputs": [],
   "source": [
    "states_data_agg.head()"
   ]
  },
  {
   "cell_type": "code",
   "execution_count": null,
   "metadata": {},
   "outputs": [],
   "source": [
    "states_data_agg.reset_index(inplace=True)"
   ]
  },
  {
   "cell_type": "code",
   "execution_count": null,
   "metadata": {},
   "outputs": [],
   "source": [
    "states_data_agg.head()"
   ]
  },
  {
   "cell_type": "code",
   "execution_count": null,
   "metadata": {},
   "outputs": [],
   "source": [
    "print(states_data_agg.loc[states_data_agg['Birth Rate'].idxmax()])\n",
    "print(states_data_agg[states_data_agg['Birth Rate']  == states_data_agg['Birth Rate'].max()])\n",
    "\n",
    "print(states_data_agg.loc[states_data_agg['Birth Rate'].idxmin()])"
   ]
  },
  {
   "cell_type": "markdown",
   "metadata": {},
   "source": [
    "### Can we plot the states with the maximum and minimum birth rates(Mississippi and Connecticut ) together in one graph ?"
   ]
  },
  {
   "cell_type": "code",
   "execution_count": null,
   "metadata": {},
   "outputs": [],
   "source": [
    "states_data_agg.set_index('Year', inplace=True)"
   ]
  },
  {
   "cell_type": "code",
   "execution_count": null,
   "metadata": {},
   "outputs": [],
   "source": [
    "miss_data = states_data_agg[['Birth Rate']][states_data_agg['State'] == 'Mississippi']\n",
    "conn_data = states_data_agg[['Birth Rate']][states_data_agg['State'] == 'Connecticut']\n",
    "miss_data.head()"
   ]
  },
  {
   "cell_type": "code",
   "execution_count": null,
   "metadata": {},
   "outputs": [],
   "source": [
    "mult_states_data = pd.merge(\n",
    "    miss_data, \n",
    "    conn_data, \n",
    "    left_index=True, \n",
    "    right_index=True, \n",
    "    how='inner', \n",
    "    suffixes=['_MISS', '_CONN'])"
   ]
  },
  {
   "cell_type": "code",
   "execution_count": null,
   "metadata": {},
   "outputs": [],
   "source": [
    "mult_states_data.head()"
   ]
  },
  {
   "cell_type": "code",
   "execution_count": null,
   "metadata": {},
   "outputs": [],
   "source": [
    "plot_rel_data_v2(mult_states_data, 'Year', 'Birth Rates', 'Birth Rates for Mississippi and Connecticut', 1, 4)"
   ]
  },
  {
   "cell_type": "markdown",
   "metadata": {},
   "source": [
    "### Can we plot data for entire USA ?"
   ]
  },
  {
   "cell_type": "code",
   "execution_count": null,
   "metadata": {},
   "outputs": [],
   "source": [
    "# We can aggregate data in the exact same manner as we did for individual states.\n",
    "entire_usa_data = teen_birth_rate_data_v2[['Birth Rate']].groupby(teen_birth_rate_data_v2['Year']).mean()\n",
    "#entire_usa_data.set_index('Year', inplace=True)\n",
    "entire_usa_data"
   ]
  },
  {
   "cell_type": "code",
   "execution_count": null,
   "metadata": {},
   "outputs": [],
   "source": [
    "plot_rel_data_v2(entire_usa_data, 'Year', 'Birth Rate', 'Birth Rates for entire USA', 1 , 1)"
   ]
  },
  {
   "cell_type": "markdown",
   "metadata": {},
   "source": [
    "### Can we decipher something statistically significant from this dataset ?"
   ]
  },
  {
   "cell_type": "markdown",
   "metadata": {},
   "source": [
    "#### The conclusions are similar to that of project 1. The data present here does not look to be sufficient enough to \n",
    "#### provide a useful result that is statistically significant."
   ]
  },
  {
   "cell_type": "code",
   "execution_count": null,
   "metadata": {},
   "outputs": [],
   "source": []
  }
 ],
 "metadata": {
  "kernelspec": {
   "display_name": "Python 3",
   "language": "python",
   "name": "python3"
  },
  "language_info": {
   "codemirror_mode": {
    "name": "ipython",
    "version": 3
   },
   "file_extension": ".py",
   "mimetype": "text/x-python",
   "name": "python",
   "nbconvert_exporter": "python",
   "pygments_lexer": "ipython3",
   "version": "3.6.4"
  }
 },
 "nbformat": 4,
 "nbformat_minor": 2
}
