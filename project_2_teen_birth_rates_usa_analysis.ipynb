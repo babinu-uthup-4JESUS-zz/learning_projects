{
 "cells": [
  {
   "cell_type": "markdown",
   "metadata": {},
   "source": [
    "# Basic Overview \n",
    "The primary objective is to visualize and analyze the the teen birth rate data in USA for the years 2003-2015.\n",
    "\n",
    "Comments/criticisms/appreciations are greatly accepted and appreciated. Do not be shy and send me an email at babinu@gmail.com !\n",
    "\n",
    "Source of data : https://data.cdc.gov/api/views/3h58-x6cd/rows.csv?accessType=DOWNLOAD"
   ]
  },
  {
   "cell_type": "code",
   "execution_count": 1,
   "metadata": {},
   "outputs": [],
   "source": [
    "# Section for importing relevant modules. Note that in order to increase readability , we will be importing necessary\n",
    "# modules only as and when it is needed, rather than all at once.\n",
    "import pandas as pd\n",
    "import numpy as np\n",
    "import matplotlib.pyplot as plt"
   ]
  },
  {
   "cell_type": "code",
   "execution_count": 2,
   "metadata": {},
   "outputs": [],
   "source": [
    "teen_birth_rate_data = pd.read_csv(\"project_2_teen_birth_rates_usa.csv\")"
   ]
  },
  {
   "cell_type": "code",
   "execution_count": 3,
   "metadata": {},
   "outputs": [
    {
     "data": {
      "text/plain": [
       "Index(['Year', 'State', 'County', 'State FIPS Code', 'County FIPS Code',\n",
       "       'Combined FIPS Code', 'Birth Rate', 'Lower Confidence Limit',\n",
       "       'Upper Confidence Limit'],\n",
       "      dtype='object')"
      ]
     },
     "execution_count": 3,
     "metadata": {},
     "output_type": "execute_result"
    }
   ],
   "source": [
    "teen_birth_rate_data.columns"
   ]
  },
  {
   "cell_type": "markdown",
   "metadata": {},
   "source": [
    "###  A quick display of the obtained dataframe\n"
   ]
  },
  {
   "cell_type": "code",
   "execution_count": 4,
   "metadata": {},
   "outputs": [
    {
     "data": {
      "text/html": [
       "<div>\n",
       "<style scoped>\n",
       "    .dataframe tbody tr th:only-of-type {\n",
       "        vertical-align: middle;\n",
       "    }\n",
       "\n",
       "    .dataframe tbody tr th {\n",
       "        vertical-align: top;\n",
       "    }\n",
       "\n",
       "    .dataframe thead th {\n",
       "        text-align: right;\n",
       "    }\n",
       "</style>\n",
       "<table border=\"1\" class=\"dataframe\">\n",
       "  <thead>\n",
       "    <tr style=\"text-align: right;\">\n",
       "      <th></th>\n",
       "      <th>Year</th>\n",
       "      <th>State</th>\n",
       "      <th>County</th>\n",
       "      <th>State FIPS Code</th>\n",
       "      <th>County FIPS Code</th>\n",
       "      <th>Combined FIPS Code</th>\n",
       "      <th>Birth Rate</th>\n",
       "      <th>Lower Confidence Limit</th>\n",
       "      <th>Upper Confidence Limit</th>\n",
       "    </tr>\n",
       "  </thead>\n",
       "  <tbody>\n",
       "    <tr>\n",
       "      <th>0</th>\n",
       "      <td>2003</td>\n",
       "      <td>Alabama</td>\n",
       "      <td>Autauga</td>\n",
       "      <td>1</td>\n",
       "      <td>1</td>\n",
       "      <td>1001</td>\n",
       "      <td>46.377215</td>\n",
       "      <td>40.683107</td>\n",
       "      <td>52.508481</td>\n",
       "    </tr>\n",
       "    <tr>\n",
       "      <th>1</th>\n",
       "      <td>2004</td>\n",
       "      <td>Alabama</td>\n",
       "      <td>Autauga</td>\n",
       "      <td>1</td>\n",
       "      <td>1</td>\n",
       "      <td>1001</td>\n",
       "      <td>46.050618</td>\n",
       "      <td>41.084735</td>\n",
       "      <td>51.340795</td>\n",
       "    </tr>\n",
       "    <tr>\n",
       "      <th>2</th>\n",
       "      <td>2005</td>\n",
       "      <td>Alabama</td>\n",
       "      <td>Autauga</td>\n",
       "      <td>1</td>\n",
       "      <td>1</td>\n",
       "      <td>1001</td>\n",
       "      <td>43.941062</td>\n",
       "      <td>39.513897</td>\n",
       "      <td>48.646647</td>\n",
       "    </tr>\n",
       "    <tr>\n",
       "      <th>3</th>\n",
       "      <td>2006</td>\n",
       "      <td>Alabama</td>\n",
       "      <td>Autauga</td>\n",
       "      <td>1</td>\n",
       "      <td>1</td>\n",
       "      <td>1001</td>\n",
       "      <td>43.826654</td>\n",
       "      <td>39.570766</td>\n",
       "      <td>48.345353</td>\n",
       "    </tr>\n",
       "    <tr>\n",
       "      <th>4</th>\n",
       "      <td>2007</td>\n",
       "      <td>Alabama</td>\n",
       "      <td>Autauga</td>\n",
       "      <td>1</td>\n",
       "      <td>1</td>\n",
       "      <td>1001</td>\n",
       "      <td>43.757806</td>\n",
       "      <td>39.573448</td>\n",
       "      <td>48.199268</td>\n",
       "    </tr>\n",
       "  </tbody>\n",
       "</table>\n",
       "</div>"
      ],
      "text/plain": [
       "   Year    State   County  State FIPS Code  County FIPS Code  \\\n",
       "0  2003  Alabama  Autauga                1                 1   \n",
       "1  2004  Alabama  Autauga                1                 1   \n",
       "2  2005  Alabama  Autauga                1                 1   \n",
       "3  2006  Alabama  Autauga                1                 1   \n",
       "4  2007  Alabama  Autauga                1                 1   \n",
       "\n",
       "   Combined FIPS Code  Birth Rate  Lower Confidence Limit  \\\n",
       "0                1001   46.377215               40.683107   \n",
       "1                1001   46.050618               41.084735   \n",
       "2                1001   43.941062               39.513897   \n",
       "3                1001   43.826654               39.570766   \n",
       "4                1001   43.757806               39.573448   \n",
       "\n",
       "   Upper Confidence Limit  \n",
       "0               52.508481  \n",
       "1               51.340795  \n",
       "2               48.646647  \n",
       "3               48.345353  \n",
       "4               48.199268  "
      ]
     },
     "execution_count": 4,
     "metadata": {},
     "output_type": "execute_result"
    }
   ],
   "source": [
    "teen_birth_rate_data.head()"
   ]
  },
  {
   "cell_type": "code",
   "execution_count": 5,
   "metadata": {},
   "outputs": [],
   "source": [
    "# We do not need the FIPS code related data for this analysis. Hence, let us remove them.\n",
    "teen_birth_rate_data_v1 = teen_birth_rate_data.drop(columns=['State FIPS Code', 'County FIPS Code', 'Combined FIPS Code'])"
   ]
  },
  {
   "cell_type": "code",
   "execution_count": 6,
   "metadata": {},
   "outputs": [
    {
     "data": {
      "text/html": [
       "<div>\n",
       "<style scoped>\n",
       "    .dataframe tbody tr th:only-of-type {\n",
       "        vertical-align: middle;\n",
       "    }\n",
       "\n",
       "    .dataframe tbody tr th {\n",
       "        vertical-align: top;\n",
       "    }\n",
       "\n",
       "    .dataframe thead th {\n",
       "        text-align: right;\n",
       "    }\n",
       "</style>\n",
       "<table border=\"1\" class=\"dataframe\">\n",
       "  <thead>\n",
       "    <tr style=\"text-align: right;\">\n",
       "      <th></th>\n",
       "      <th>Year</th>\n",
       "      <th>State</th>\n",
       "      <th>County</th>\n",
       "      <th>Birth Rate</th>\n",
       "      <th>Lower Confidence Limit</th>\n",
       "      <th>Upper Confidence Limit</th>\n",
       "    </tr>\n",
       "  </thead>\n",
       "  <tbody>\n",
       "    <tr>\n",
       "      <th>0</th>\n",
       "      <td>2003</td>\n",
       "      <td>Alabama</td>\n",
       "      <td>Autauga</td>\n",
       "      <td>46.377215</td>\n",
       "      <td>40.683107</td>\n",
       "      <td>52.508481</td>\n",
       "    </tr>\n",
       "    <tr>\n",
       "      <th>1</th>\n",
       "      <td>2004</td>\n",
       "      <td>Alabama</td>\n",
       "      <td>Autauga</td>\n",
       "      <td>46.050618</td>\n",
       "      <td>41.084735</td>\n",
       "      <td>51.340795</td>\n",
       "    </tr>\n",
       "    <tr>\n",
       "      <th>2</th>\n",
       "      <td>2005</td>\n",
       "      <td>Alabama</td>\n",
       "      <td>Autauga</td>\n",
       "      <td>43.941062</td>\n",
       "      <td>39.513897</td>\n",
       "      <td>48.646647</td>\n",
       "    </tr>\n",
       "    <tr>\n",
       "      <th>3</th>\n",
       "      <td>2006</td>\n",
       "      <td>Alabama</td>\n",
       "      <td>Autauga</td>\n",
       "      <td>43.826654</td>\n",
       "      <td>39.570766</td>\n",
       "      <td>48.345353</td>\n",
       "    </tr>\n",
       "    <tr>\n",
       "      <th>4</th>\n",
       "      <td>2007</td>\n",
       "      <td>Alabama</td>\n",
       "      <td>Autauga</td>\n",
       "      <td>43.757806</td>\n",
       "      <td>39.573448</td>\n",
       "      <td>48.199268</td>\n",
       "    </tr>\n",
       "  </tbody>\n",
       "</table>\n",
       "</div>"
      ],
      "text/plain": [
       "   Year    State   County  Birth Rate  Lower Confidence Limit  \\\n",
       "0  2003  Alabama  Autauga   46.377215               40.683107   \n",
       "1  2004  Alabama  Autauga   46.050618               41.084735   \n",
       "2  2005  Alabama  Autauga   43.941062               39.513897   \n",
       "3  2006  Alabama  Autauga   43.826654               39.570766   \n",
       "4  2007  Alabama  Autauga   43.757806               39.573448   \n",
       "\n",
       "   Upper Confidence Limit  \n",
       "0               52.508481  \n",
       "1               51.340795  \n",
       "2               48.646647  \n",
       "3               48.345353  \n",
       "4               48.199268  "
      ]
     },
     "execution_count": 6,
     "metadata": {},
     "output_type": "execute_result"
    }
   ],
   "source": [
    "teen_birth_rate_data_v1.head()"
   ]
  },
  {
   "cell_type": "markdown",
   "metadata": {},
   "source": [
    "### Q : What exactly are the lower and upper confidence limits and do we need them ?\n",
    "\n",
    "#### A : The birth rates are estimated for a year from the data for July using bayesian model(https://catalog.data.gov/dataset/teen-birth-rates-for-age-group-15-19-in-the-united-states-by-county) \n",
    "#### and hence we have the confidence limit values as well(obtained using the obtained standard error). \n",
    "\n",
    "#### For the sake of our analysis, we will omit these.\n"
   ]
  },
  {
   "cell_type": "code",
   "execution_count": 7,
   "metadata": {},
   "outputs": [],
   "source": [
    "teen_birth_rate_data_v2 = teen_birth_rate_data_v1.drop(columns=['Lower Confidence Limit', 'Upper Confidence Limit'])"
   ]
  },
  {
   "cell_type": "code",
   "execution_count": 8,
   "metadata": {},
   "outputs": [
    {
     "data": {
      "text/html": [
       "<div>\n",
       "<style scoped>\n",
       "    .dataframe tbody tr th:only-of-type {\n",
       "        vertical-align: middle;\n",
       "    }\n",
       "\n",
       "    .dataframe tbody tr th {\n",
       "        vertical-align: top;\n",
       "    }\n",
       "\n",
       "    .dataframe thead th {\n",
       "        text-align: right;\n",
       "    }\n",
       "</style>\n",
       "<table border=\"1\" class=\"dataframe\">\n",
       "  <thead>\n",
       "    <tr style=\"text-align: right;\">\n",
       "      <th></th>\n",
       "      <th>Year</th>\n",
       "      <th>State</th>\n",
       "      <th>County</th>\n",
       "      <th>Birth Rate</th>\n",
       "    </tr>\n",
       "  </thead>\n",
       "  <tbody>\n",
       "    <tr>\n",
       "      <th>0</th>\n",
       "      <td>2003</td>\n",
       "      <td>Alabama</td>\n",
       "      <td>Autauga</td>\n",
       "      <td>46.377215</td>\n",
       "    </tr>\n",
       "    <tr>\n",
       "      <th>1</th>\n",
       "      <td>2004</td>\n",
       "      <td>Alabama</td>\n",
       "      <td>Autauga</td>\n",
       "      <td>46.050618</td>\n",
       "    </tr>\n",
       "    <tr>\n",
       "      <th>2</th>\n",
       "      <td>2005</td>\n",
       "      <td>Alabama</td>\n",
       "      <td>Autauga</td>\n",
       "      <td>43.941062</td>\n",
       "    </tr>\n",
       "    <tr>\n",
       "      <th>3</th>\n",
       "      <td>2006</td>\n",
       "      <td>Alabama</td>\n",
       "      <td>Autauga</td>\n",
       "      <td>43.826654</td>\n",
       "    </tr>\n",
       "    <tr>\n",
       "      <th>4</th>\n",
       "      <td>2007</td>\n",
       "      <td>Alabama</td>\n",
       "      <td>Autauga</td>\n",
       "      <td>43.757806</td>\n",
       "    </tr>\n",
       "  </tbody>\n",
       "</table>\n",
       "</div>"
      ],
      "text/plain": [
       "   Year    State   County  Birth Rate\n",
       "0  2003  Alabama  Autauga   46.377215\n",
       "1  2004  Alabama  Autauga   46.050618\n",
       "2  2005  Alabama  Autauga   43.941062\n",
       "3  2006  Alabama  Autauga   43.826654\n",
       "4  2007  Alabama  Autauga   43.757806"
      ]
     },
     "execution_count": 8,
     "metadata": {},
     "output_type": "execute_result"
    }
   ],
   "source": [
    "teen_birth_rate_data_v2.head()"
   ]
  },
  {
   "cell_type": "markdown",
   "metadata": {},
   "source": [
    "### How do we validate the given data ?"
   ]
  },
  {
   "cell_type": "code",
   "execution_count": 9,
   "metadata": {},
   "outputs": [
    {
     "name": "stdout",
     "output_type": "stream",
     "text": [
      "count    40781.000000\n",
      "mean        40.319738\n",
      "std         19.644728\n",
      "min          2.868646\n",
      "25%         25.192610\n",
      "50%         37.541996\n",
      "75%         52.733487\n",
      "max        135.231014\n",
      "Name: Birth Rate, dtype: float64\n"
     ]
    }
   ],
   "source": [
    "# We do a simple data validation to make sure that birth rates are indeed numbers.\n",
    "print(teen_birth_rate_data_v2['Birth Rate'].describe())"
   ]
  },
  {
   "cell_type": "markdown",
   "metadata": {},
   "source": [
    "### Which county had the highest/lowest birth rate across all years ?"
   ]
  },
  {
   "cell_type": "code",
   "execution_count": 10,
   "metadata": {},
   "outputs": [
    {
     "name": "stdout",
     "output_type": "stream",
     "text": [
      "Highest birth rate  county : \n",
      " Year             2008\n",
      "State           Texas\n",
      "County         Brooks\n",
      "Birth Rate    135.231\n",
      "Name: 33038, dtype: object\n",
      "Lowest birth rate  county : \n",
      " Year                   2015\n",
      "State         Massachusetts\n",
      "County            Hampshire\n",
      "Birth Rate          2.86865\n",
      "Name: 15859, dtype: object\n"
     ]
    }
   ],
   "source": [
    "# We find this in few different ways.\n",
    "#print(teen_birth_rate_data_v2[teen_birth_rate_data_v2['Birth Rate'] == teen_birth_rate_data_v2['Birth Rate'].max()])\n",
    "print(\"Highest birth rate  county : \\n\", teen_birth_rate_data_v2.loc[teen_birth_rate_data_v2['Birth Rate'].idxmax()])\n",
    "print(\"Lowest birth rate  county : \\n\", teen_birth_rate_data_v2.loc[teen_birth_rate_data_v2['Birth Rate'].idxmin()])"
   ]
  },
  {
   "cell_type": "markdown",
   "metadata": {},
   "source": [
    "### Can we plot birth rate data across years for the Brooks county in Texas ?"
   ]
  },
  {
   "cell_type": "code",
   "execution_count": 11,
   "metadata": {},
   "outputs": [],
   "source": [
    "def plot_rel_data_v2(multiple_states_data, \n",
    "                     x_label, \n",
    "                     y_label, \n",
    "                     title_str, \n",
    "                     x_tick=1, \n",
    "                     y_tick=0.2, \n",
    "                     fig_length=16,\n",
    "                     fig_breadth=9,\n",
    "                     x_label_font_size=18,\n",
    "                     y_label_font_size=16):\n",
    "    \"\"\"Plots relevant data from the given dataframe.\n",
    "\n",
    "    Usage::\n",
    "\n",
    "        >>> import pandas as pd\n",
    "        >>> import matplotlib.pyplot as plt\n",
    "        >>> # Code for getting data to pandas dataframe df\n",
    "        >>> plot_rel_data(df, column1, column2, title_name)\n",
    "\n",
    "    :param multiple_states_data: Given pandas dataframe\n",
    "    :param x_label: Label to be printed on X axis\n",
    "    :param y_label: Label to be printed on Y axis    \n",
    "    :param title_str: Title of the resultant graph\n",
    "    :param x_tick: Minimum increment on x-values\n",
    "    :param y_tick: Minimum increment on y-values\n",
    "    :param fig_length: Length of output figure.\n",
    "    :param fig_breadth: Breadth of output figure.\n",
    "    :param x_label_font_size: Size of label on X axis.\n",
    "    :param y_label_font_size: Size of label on Y axis.    \n",
    "    \"\"\"\n",
    "    fig, ax = plt.subplots(1,1,figsize=(fig_length, fig_breadth)) \n",
    "    multiple_states_data.plot(ax=ax)\n",
    "    ax.xaxis.label.set_size(x_label_font_size)\n",
    "    ax.yaxis.label.set_size(y_label_font_size)\n",
    "    ax.set(xlabel=x_label, ylabel=y_label)\n",
    "    ax.set_title(title_str)\n",
    "    ax.set_xticks(np.arange(multiple_states_data.index.min(), multiple_states_data.index.max(), x_tick))\n",
    "    ax.set_yticks(np.arange(multiple_states_data.min().min(), multiple_states_data.max().max(), y_tick))\n",
    "    print(multiple_states_data.describe())\n",
    "    return ax\n"
   ]
  },
  {
   "cell_type": "code",
   "execution_count": 12,
   "metadata": {},
   "outputs": [],
   "source": [
    "brooks_county_data = \\\n",
    "    teen_birth_rate_data_v2[\n",
    "        (teen_birth_rate_data_v2['County'] == 'Brooks') & (teen_birth_rate_data_v2['State'] == 'Texas')]\n",
    "brooks_county_data.set_index('Year', inplace=True)"
   ]
  },
  {
   "cell_type": "code",
   "execution_count": 13,
   "metadata": {},
   "outputs": [
    {
     "data": {
      "text/plain": [
       "State          object\n",
       "County         object\n",
       "Birth Rate    float64\n",
       "dtype: object"
      ]
     },
     "execution_count": 13,
     "metadata": {},
     "output_type": "execute_result"
    }
   ],
   "source": [
    "brooks_county_data.dtypes"
   ]
  },
  {
   "cell_type": "code",
   "execution_count": 36,
   "metadata": {},
   "outputs": [
    {
     "name": "stdout",
     "output_type": "stream",
     "text": [
      "count     13.000000\n",
      "mean     120.241050\n",
      "std       13.136592\n",
      "min       93.807557\n",
      "25%      114.502993\n",
      "50%      124.113820\n",
      "75%      130.338806\n",
      "max      135.231014\n",
      "Name: Birth Rate, dtype: float64\n",
      "State           Texas\n",
      "County         Brooks\n",
      "Birth Rate    135.231\n",
      "Name: 2008, dtype: object\n",
      "2008 Texas Brooks 135.231014\n"
     ]
    },
    {
     "data": {
      "text/plain": [
       "Text(2008,138.231,'Effect of financial crisis ?')"
      ]
     },
     "execution_count": 36,
     "metadata": {},
     "output_type": "execute_result"
    },
    {
     "data": {
      "image/png": "[encoded data removed]",
      "text/plain": [
       "<matplotlib.figure.Figure at 0x110812e80>"
      ]
     },
     "metadata": {},
     "output_type": "display_data"
    }
   ],
   "source": [
    "ax = plot_rel_data_v2(brooks_county_data['Birth Rate'], 'Year', 'Birth Rate', 'Birth year across years for Brooks County(TX)', 1, 5)\n",
    "max_obj = brooks_county_data.loc[brooks_county_data['Birth Rate'].idxmax()]\n",
    "\n",
    "print(max_obj)\n",
    "print(max_obj.name, max_obj.State, max_obj.County,max_obj['Birth Rate'])\n",
    "\n",
    "# Change the top y limit to make sure that annotations are made properly.\n",
    "ax.set_ylim(top=brooks_county_data['Birth Rate'].max() + 7)\n",
    "ax.annotate('Effect of financial crisis ?', \n",
    "            xy=(int(max_obj.name), max_obj['Birth Rate'] + 0.5),\n",
    "            xytext=(int(max_obj.name), max_obj['Birth Rate'] + 3),\n",
    "            arrowprops=dict(facecolor='green'),\n",
    "            horizontalalignment='right',\n",
    "            verticalalignment='top'\n",
    "            )"
   ]
  },
  {
   "cell_type": "markdown",
   "metadata": {},
   "source": [
    "### Can we average the birth rates across counties(for each state) and see which state has highest/lowest birth rates ?"
   ]
  },
  {
   "cell_type": "code",
   "execution_count": 37,
   "metadata": {},
   "outputs": [],
   "source": [
    "states_data_agg = \\\n",
    "    teen_birth_rate_data_v2[['Birth Rate']].groupby(\n",
    "        [teen_birth_rate_data_v2['Year'], teen_birth_rate_data_v2['State']]).mean()"
   ]
  },
  {
   "cell_type": "code",
   "execution_count": 38,
   "metadata": {},
   "outputs": [
    {
     "data": {
      "text/html": [
       "<div>\n",
       "<style scoped>\n",
       "    .dataframe tbody tr th:only-of-type {\n",
       "        vertical-align: middle;\n",
       "    }\n",
       "\n",
       "    .dataframe tbody tr th {\n",
       "        vertical-align: top;\n",
       "    }\n",
       "\n",
       "    .dataframe thead th {\n",
       "        text-align: right;\n",
       "    }\n",
       "</style>\n",
       "<table border=\"1\" class=\"dataframe\">\n",
       "  <thead>\n",
       "    <tr style=\"text-align: right;\">\n",
       "      <th></th>\n",
       "      <th></th>\n",
       "      <th>Birth Rate</th>\n",
       "    </tr>\n",
       "    <tr>\n",
       "      <th>Year</th>\n",
       "      <th>State</th>\n",
       "      <th></th>\n",
       "    </tr>\n",
       "  </thead>\n",
       "  <tbody>\n",
       "    <tr>\n",
       "      <th rowspan=\"5\" valign=\"top\">2003</th>\n",
       "      <th>Alabama</th>\n",
       "      <td>55.298371</td>\n",
       "    </tr>\n",
       "    <tr>\n",
       "      <th>Alaska</th>\n",
       "      <td>47.083849</td>\n",
       "    </tr>\n",
       "    <tr>\n",
       "      <th>Arizona</th>\n",
       "      <td>63.422178</td>\n",
       "    </tr>\n",
       "    <tr>\n",
       "      <th>Arkansas</th>\n",
       "      <td>64.260899</td>\n",
       "    </tr>\n",
       "    <tr>\n",
       "      <th>California</th>\n",
       "      <td>37.490457</td>\n",
       "    </tr>\n",
       "  </tbody>\n",
       "</table>\n",
       "</div>"
      ],
      "text/plain": [
       "                 Birth Rate\n",
       "Year State                 \n",
       "2003 Alabama      55.298371\n",
       "     Alaska       47.083849\n",
       "     Arizona      63.422178\n",
       "     Arkansas     64.260899\n",
       "     California   37.490457"
      ]
     },
     "execution_count": 38,
     "metadata": {},
     "output_type": "execute_result"
    }
   ],
   "source": [
    "states_data_agg.head()"
   ]
  },
  {
   "cell_type": "code",
   "execution_count": 39,
   "metadata": {},
   "outputs": [],
   "source": [
    "states_data_agg.reset_index(inplace=True)"
   ]
  },
  {
   "cell_type": "code",
   "execution_count": 40,
   "metadata": {},
   "outputs": [
    {
     "data": {
      "text/html": [
       "<div>\n",
       "<style scoped>\n",
       "    .dataframe tbody tr th:only-of-type {\n",
       "        vertical-align: middle;\n",
       "    }\n",
       "\n",
       "    .dataframe tbody tr th {\n",
       "        vertical-align: top;\n",
       "    }\n",
       "\n",
       "    .dataframe thead th {\n",
       "        text-align: right;\n",
       "    }\n",
       "</style>\n",
       "<table border=\"1\" class=\"dataframe\">\n",
       "  <thead>\n",
       "    <tr style=\"text-align: right;\">\n",
       "      <th></th>\n",
       "      <th>Year</th>\n",
       "      <th>State</th>\n",
       "      <th>Birth Rate</th>\n",
       "    </tr>\n",
       "  </thead>\n",
       "  <tbody>\n",
       "    <tr>\n",
       "      <th>0</th>\n",
       "      <td>2003</td>\n",
       "      <td>Alabama</td>\n",
       "      <td>55.298371</td>\n",
       "    </tr>\n",
       "    <tr>\n",
       "      <th>1</th>\n",
       "      <td>2003</td>\n",
       "      <td>Alaska</td>\n",
       "      <td>47.083849</td>\n",
       "    </tr>\n",
       "    <tr>\n",
       "      <th>2</th>\n",
       "      <td>2003</td>\n",
       "      <td>Arizona</td>\n",
       "      <td>63.422178</td>\n",
       "    </tr>\n",
       "    <tr>\n",
       "      <th>3</th>\n",
       "      <td>2003</td>\n",
       "      <td>Arkansas</td>\n",
       "      <td>64.260899</td>\n",
       "    </tr>\n",
       "    <tr>\n",
       "      <th>4</th>\n",
       "      <td>2003</td>\n",
       "      <td>California</td>\n",
       "      <td>37.490457</td>\n",
       "    </tr>\n",
       "  </tbody>\n",
       "</table>\n",
       "</div>"
      ],
      "text/plain": [
       "   Year       State  Birth Rate\n",
       "0  2003     Alabama   55.298371\n",
       "1  2003      Alaska   47.083849\n",
       "2  2003     Arizona   63.422178\n",
       "3  2003    Arkansas   64.260899\n",
       "4  2003  California   37.490457"
      ]
     },
     "execution_count": 40,
     "metadata": {},
     "output_type": "execute_result"
    }
   ],
   "source": [
    "states_data_agg.head()"
   ]
  },
  {
   "cell_type": "code",
   "execution_count": 41,
   "metadata": {},
   "outputs": [
    {
     "name": "stdout",
     "output_type": "stream",
     "text": [
      "Year                 2007\n",
      "State         Mississippi\n",
      "Birth Rate        71.6359\n",
      "Name: 228, dtype: object\n",
      "     Year        State  Birth Rate\n",
      "228  2007  Mississippi   71.635909\n",
      "Year                 2015\n",
      "State         Connecticut\n",
      "Birth Rate        10.1347\n",
      "Name: 618, dtype: object\n"
     ]
    }
   ],
   "source": [
    "print(states_data_agg.loc[states_data_agg['Birth Rate'].idxmax()])\n",
    "print(states_data_agg[states_data_agg['Birth Rate']  == states_data_agg['Birth Rate'].max()])\n",
    "\n",
    "print(states_data_agg.loc[states_data_agg['Birth Rate'].idxmin()])"
   ]
  },
  {
   "cell_type": "markdown",
   "metadata": {},
   "source": [
    "### Can we plot the states with the maximum and minimum birth rates(Mississippi and Connecticut ) together in one graph ?"
   ]
  },
  {
   "cell_type": "code",
   "execution_count": 42,
   "metadata": {},
   "outputs": [],
   "source": [
    "states_data_agg.set_index('Year', inplace=True)"
   ]
  },
  {
   "cell_type": "code",
   "execution_count": 43,
   "metadata": {},
   "outputs": [
    {
     "data": {
      "text/html": [
       "<div>\n",
       "<style scoped>\n",
       "    .dataframe tbody tr th:only-of-type {\n",
       "        vertical-align: middle;\n",
       "    }\n",
       "\n",
       "    .dataframe tbody tr th {\n",
       "        vertical-align: top;\n",
       "    }\n",
       "\n",
       "    .dataframe thead th {\n",
       "        text-align: right;\n",
       "    }\n",
       "</style>\n",
       "<table border=\"1\" class=\"dataframe\">\n",
       "  <thead>\n",
       "    <tr style=\"text-align: right;\">\n",
       "      <th></th>\n",
       "      <th>Birth Rate</th>\n",
       "    </tr>\n",
       "    <tr>\n",
       "      <th>Year</th>\n",
       "      <th></th>\n",
       "    </tr>\n",
       "  </thead>\n",
       "  <tbody>\n",
       "    <tr>\n",
       "      <th>2003</th>\n",
       "      <td>66.687151</td>\n",
       "    </tr>\n",
       "    <tr>\n",
       "      <th>2004</th>\n",
       "      <td>66.099734</td>\n",
       "    </tr>\n",
       "    <tr>\n",
       "      <th>2005</th>\n",
       "      <td>65.702072</td>\n",
       "    </tr>\n",
       "    <tr>\n",
       "      <th>2006</th>\n",
       "      <td>69.505884</td>\n",
       "    </tr>\n",
       "    <tr>\n",
       "      <th>2007</th>\n",
       "      <td>71.635909</td>\n",
       "    </tr>\n",
       "  </tbody>\n",
       "</table>\n",
       "</div>"
      ],
      "text/plain": [
       "      Birth Rate\n",
       "Year            \n",
       "2003   66.687151\n",
       "2004   66.099734\n",
       "2005   65.702072\n",
       "2006   69.505884\n",
       "2007   71.635909"
      ]
     },
     "execution_count": 43,
     "metadata": {},
     "output_type": "execute_result"
    }
   ],
   "source": [
    "miss_data = states_data_agg[['Birth Rate']][states_data_agg['State'] == 'Mississippi']\n",
    "conn_data = states_data_agg[['Birth Rate']][states_data_agg['State'] == 'Connecticut']\n",
    "miss_data.head()"
   ]
  },
  {
   "cell_type": "code",
   "execution_count": 44,
   "metadata": {},
   "outputs": [],
   "source": [
    "mult_states_data = pd.merge(\n",
    "    miss_data, \n",
    "    conn_data, \n",
    "    left_index=True, \n",
    "    right_index=True, \n",
    "    how='inner', \n",
    "    suffixes=['_MISS', '_CONN'])"
   ]
  },
  {
   "cell_type": "code",
   "execution_count": 45,
   "metadata": {},
   "outputs": [
    {
     "data": {
      "text/html": [
       "<div>\n",
       "<style scoped>\n",
       "    .dataframe tbody tr th:only-of-type {\n",
       "        vertical-align: middle;\n",
       "    }\n",
       "\n",
       "    .dataframe tbody tr th {\n",
       "        vertical-align: top;\n",
       "    }\n",
       "\n",
       "    .dataframe thead th {\n",
       "        text-align: right;\n",
       "    }\n",
       "</style>\n",
       "<table border=\"1\" class=\"dataframe\">\n",
       "  <thead>\n",
       "    <tr style=\"text-align: right;\">\n",
       "      <th></th>\n",
       "      <th>Birth Rate_MISS</th>\n",
       "      <th>Birth Rate_CONN</th>\n",
       "    </tr>\n",
       "    <tr>\n",
       "      <th>Year</th>\n",
       "      <th></th>\n",
       "      <th></th>\n",
       "    </tr>\n",
       "  </thead>\n",
       "  <tbody>\n",
       "    <tr>\n",
       "      <th>2003</th>\n",
       "      <td>66.687151</td>\n",
       "      <td>20.291578</td>\n",
       "    </tr>\n",
       "    <tr>\n",
       "      <th>2004</th>\n",
       "      <td>66.099734</td>\n",
       "      <td>20.271894</td>\n",
       "    </tr>\n",
       "    <tr>\n",
       "      <th>2005</th>\n",
       "      <td>65.702072</td>\n",
       "      <td>19.649296</td>\n",
       "    </tr>\n",
       "    <tr>\n",
       "      <th>2006</th>\n",
       "      <td>69.505884</td>\n",
       "      <td>19.937525</td>\n",
       "    </tr>\n",
       "    <tr>\n",
       "      <th>2007</th>\n",
       "      <td>71.635909</td>\n",
       "      <td>19.843856</td>\n",
       "    </tr>\n",
       "  </tbody>\n",
       "</table>\n",
       "</div>"
      ],
      "text/plain": [
       "      Birth Rate_MISS  Birth Rate_CONN\n",
       "Year                                  \n",
       "2003        66.687151        20.291578\n",
       "2004        66.099734        20.271894\n",
       "2005        65.702072        19.649296\n",
       "2006        69.505884        19.937525\n",
       "2007        71.635909        19.843856"
      ]
     },
     "execution_count": 45,
     "metadata": {},
     "output_type": "execute_result"
    }
   ],
   "source": [
    "mult_states_data.head()"
   ]
  },
  {
   "cell_type": "code",
   "execution_count": 46,
   "metadata": {},
   "outputs": [
    {
     "name": "stdout",
     "output_type": "stream",
     "text": [
      "       Birth Rate_MISS  Birth Rate_CONN\n",
      "count        13.000000        13.000000\n",
      "mean         59.983868        16.481804\n",
      "std          10.462246         3.852510\n",
      "min          40.755451        10.134712\n",
      "25%          53.020620        13.468094\n",
      "50%          65.702072        18.058187\n",
      "75%          66.868829        19.843856\n",
      "max          71.635909        20.291578\n"
     ]
    },
    {
     "data": {
      "text/plain": [
       "<matplotlib.axes._subplots.AxesSubplot at 0x11ce8f828>"
      ]
     },
     "execution_count": 46,
     "metadata": {},
     "output_type": "execute_result"
    },
    {
     "data": {
      "image/png": "[encoded data removed]",
      "text/plain": [
       "<matplotlib.figure.Figure at 0x11ce82470>"
      ]
     },
     "metadata": {},
     "output_type": "display_data"
    }
   ],
   "source": [
    "plot_rel_data_v2(mult_states_data, 'Year', 'Birth Rates', 'Birth Rates for Mississippi and Connecticut', 1, 4)"
   ]
  },
  {
   "cell_type": "markdown",
   "metadata": {},
   "source": [
    "### Can we plot data for entire USA ?"
   ]
  },
  {
   "cell_type": "code",
   "execution_count": 50,
   "metadata": {},
   "outputs": [
    {
     "data": {
      "text/html": [
       "<div>\n",
       "<style scoped>\n",
       "    .dataframe tbody tr th:only-of-type {\n",
       "        vertical-align: middle;\n",
       "    }\n",
       "\n",
       "    .dataframe tbody tr th {\n",
       "        vertical-align: top;\n",
       "    }\n",
       "\n",
       "    .dataframe thead th {\n",
       "        text-align: right;\n",
       "    }\n",
       "</style>\n",
       "<table border=\"1\" class=\"dataframe\">\n",
       "  <thead>\n",
       "    <tr style=\"text-align: right;\">\n",
       "      <th></th>\n",
       "      <th>Birth Rate</th>\n",
       "    </tr>\n",
       "    <tr>\n",
       "      <th>Year</th>\n",
       "      <th></th>\n",
       "    </tr>\n",
       "  </thead>\n",
       "  <tbody>\n",
       "    <tr>\n",
       "      <th>2003</th>\n",
       "      <td>45.754650</td>\n",
       "    </tr>\n",
       "    <tr>\n",
       "      <th>2004</th>\n",
       "      <td>45.154530</td>\n",
       "    </tr>\n",
       "    <tr>\n",
       "      <th>2005</th>\n",
       "      <td>44.422941</td>\n",
       "    </tr>\n",
       "    <tr>\n",
       "      <th>2006</th>\n",
       "      <td>46.138379</td>\n",
       "    </tr>\n",
       "    <tr>\n",
       "      <th>2007</th>\n",
       "      <td>47.129863</td>\n",
       "    </tr>\n",
       "    <tr>\n",
       "      <th>2008</th>\n",
       "      <td>46.327473</td>\n",
       "    </tr>\n",
       "    <tr>\n",
       "      <th>2009</th>\n",
       "      <td>44.318616</td>\n",
       "    </tr>\n",
       "    <tr>\n",
       "      <th>2010</th>\n",
       "      <td>40.576560</td>\n",
       "    </tr>\n",
       "    <tr>\n",
       "      <th>2011</th>\n",
       "      <td>37.760967</td>\n",
       "    </tr>\n",
       "    <tr>\n",
       "      <th>2012</th>\n",
       "      <td>35.903418</td>\n",
       "    </tr>\n",
       "    <tr>\n",
       "      <th>2013</th>\n",
       "      <td>32.721882</td>\n",
       "    </tr>\n",
       "    <tr>\n",
       "      <th>2014</th>\n",
       "      <td>30.139307</td>\n",
       "    </tr>\n",
       "    <tr>\n",
       "      <th>2015</th>\n",
       "      <td>27.808011</td>\n",
       "    </tr>\n",
       "  </tbody>\n",
       "</table>\n",
       "</div>"
      ],
      "text/plain": [
       "      Birth Rate\n",
       "Year            \n",
       "2003   45.754650\n",
       "2004   45.154530\n",
       "2005   44.422941\n",
       "2006   46.138379\n",
       "2007   47.129863\n",
       "2008   46.327473\n",
       "2009   44.318616\n",
       "2010   40.576560\n",
       "2011   37.760967\n",
       "2012   35.903418\n",
       "2013   32.721882\n",
       "2014   30.139307\n",
       "2015   27.808011"
      ]
     },
     "execution_count": 50,
     "metadata": {},
     "output_type": "execute_result"
    }
   ],
   "source": [
    "# We can aggregate data in the exact same manner as we did for individual states.\n",
    "entire_usa_data = teen_birth_rate_data_v2[['Birth Rate']].groupby(teen_birth_rate_data_v2['Year']).mean()\n",
    "#entire_usa_data.set_index('Year', inplace=True)\n",
    "entire_usa_data"
   ]
  },
  {
   "cell_type": "code",
   "execution_count": 52,
   "metadata": {},
   "outputs": [
    {
     "name": "stdout",
     "output_type": "stream",
     "text": [
      "       Birth Rate\n",
      "count   13.000000\n",
      "mean    40.319738\n",
      "std      6.745969\n",
      "min     27.808011\n",
      "25%     35.903418\n",
      "50%     44.318616\n",
      "75%     45.754650\n",
      "max     47.129863\n"
     ]
    },
    {
     "data": {
      "text/plain": [
       "<matplotlib.axes._subplots.AxesSubplot at 0x11d37b7f0>"
      ]
     },
     "execution_count": 52,
     "metadata": {},
     "output_type": "execute_result"
    },
    {
     "data": {
      "image/png": "[encoded data removed]",
      "text/plain": [
       "<matplotlib.figure.Figure at 0x11ea2cdd8>"
      ]
     },
     "metadata": {},
     "output_type": "display_data"
    }
   ],
   "source": [
    "plot_rel_data_v2(entire_usa_data, 'Year', 'Birth Rate', 'Birth Rates for entire USA', 1 , 1)"
   ]
  },
  {
   "cell_type": "markdown",
   "metadata": {},
   "source": [
    "### Can we decipher something statistically significant from this dataset ?"
   ]
  },
  {
   "cell_type": "markdown",
   "metadata": {},
   "source": [
    "#### The conclusions are similar to that of project 1. The data present here does not look to be sufficient enough to \n",
    "#### provide a useful result that is statistically significant."
   ]
  },
  {
   "cell_type": "code",
   "execution_count": null,
   "metadata": {},
   "outputs": [],
   "source": []
  }
 ],
 "metadata": {
  "kernelspec": {
   "display_name": "Python 3",
   "language": "python",
   "name": "python3"
  },
  "language_info": {
   "codemirror_mode": {
    "name": "ipython",
    "version": 3
   },
   "file_extension": ".py",
   "mimetype": "text/x-python",
   "name": "python",
   "nbconvert_exporter": "python",
   "pygments_lexer": "ipython3",
   "version": "3.6.4"
  }
 },
 "nbformat": 4,
 "nbformat_minor": 2
}
